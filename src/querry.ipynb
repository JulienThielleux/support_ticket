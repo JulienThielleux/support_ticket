{
 "cells": [
  {
   "cell_type": "code",
   "execution_count": 53,
   "metadata": {},
   "outputs": [
    {
     "name": "stdout",
     "output_type": "stream",
     "text": [
      "PROJECT_ID: support-ticket-442808\n",
      "BUCKET_NAME: tickets-bucket-julien-us-central\n",
      "MODEL_NAME: text-embedding-004\n",
      "LOCATION: us-central1\n"
     ]
    }
   ],
   "source": [
    "import json\n",
    "\n",
    "with open(\"../.env/config.json\", \"r\") as f:\n",
    "    CONFIG = json.load(f)\n",
    "\n",
    "PROJECT_ID = CONFIG[\"project_id\"]\n",
    "BUCKET_NAME = CONFIG[\"bucket_name\"]\n",
    "MODEL_NAME = CONFIG[\"model_name\"]\n",
    "LOCATION = CONFIG[\"location\"]\n",
    "print(f\"PROJECT_ID: {PROJECT_ID}\")\n",
    "print(f\"BUCKET_NAME: {BUCKET_NAME}\")\n",
    "print(f\"MODEL_NAME: {MODEL_NAME}\")\n",
    "print(f\"LOCATION: {LOCATION}\")"
   ]
  },
  {
   "cell_type": "code",
   "execution_count": 54,
   "metadata": {},
   "outputs": [],
   "source": [
    "#authentication to GCP\n",
    "import os\n",
    "\n",
    "os.environ[\"GOOGLE_APPLICATION_CREDENTIALS\"] = \"../.env/service-account.json\""
   ]
  },
  {
   "cell_type": "code",
   "execution_count": 55,
   "metadata": {},
   "outputs": [],
   "source": [
    "#embedding the query to compare\n",
    "import google.generativeai as genai\n",
    "\n",
    "to_compare = \"Hello, I have undelivered messages\"\n",
    "\n",
    "to_compare_embedding_dict = genai.embed_content(\n",
    "    model=f\"models/{MODEL_NAME}\", content=to_compare, task_type=\"clustering\"\n",
    ")\n",
    "\n",
    "to_compare_embedding = to_compare_embedding_dict[\"embedding\"]"
   ]
  },
  {
   "cell_type": "code",
   "execution_count": 56,
   "metadata": {},
   "outputs": [
    {
     "name": "stdout",
     "output_type": "stream",
     "text": [
      "0.999999309107162\n"
     ]
    }
   ],
   "source": [
    "import math\n",
    "print(math.sqrt(sum(x**2 for x in to_compare_embedding)))"
   ]
  },
  {
   "cell_type": "code",
   "execution_count": 58,
   "metadata": {},
   "outputs": [
    {
     "name": "stdout",
     "output_type": "stream",
     "text": [
      "\n"
     ]
    }
   ],
   "source": [
    "#finding the nearest neighbors\n",
    "\n",
    "#preparation for vector search\n",
    "from google.cloud import aiplatform_v1\n",
    "\n",
    "API_ENDPOINT=\"960050135.us-central1-802291245749.vdb.vertexai.goog\"\n",
    "INDEX_ENDPOINT=\"projects/802291245749/locations/us-central1/indexEndpoints/3788631196292874240\"\n",
    "DEPLOYED_INDEX_ID=\"support_tickets_index_deployed\"\n",
    "\n",
    "#vector Search client\n",
    "client_options = {\n",
    "  \"api_endpoint\": API_ENDPOINT\n",
    "}\n",
    "vector_search_client = aiplatform_v1.MatchServiceClient(\n",
    "  client_options=client_options,\n",
    ")\n",
    "\n",
    "#building the FindNeighborsRequest object\n",
    "datapoint = aiplatform_v1.IndexDatapoint(\n",
    "  feature_vector=to_compare_embedding\n",
    ")\n",
    "\n",
    "#building the query object\n",
    "query = aiplatform_v1.FindNeighborsRequest.Query(\n",
    "  datapoint=datapoint,\n",
    "  neighbor_count=5\n",
    ")\n",
    "\n",
    "#building the request object\n",
    "request = aiplatform_v1.FindNeighborsRequest(\n",
    "  index_endpoint=INDEX_ENDPOINT,\n",
    "  deployed_index_id=DEPLOYED_INDEX_ID,\n",
    "  queries=[query]\n",
    ")\n",
    "\n",
    "#sending the request\n",
    "response = vector_search_client.find_neighbors(request=request)\n",
    "\n",
    "print(response)"
   ]
  }
 ],
 "metadata": {
  "kernelspec": {
   "display_name": ".venv",
   "language": "python",
   "name": "python3"
  },
  "language_info": {
   "codemirror_mode": {
    "name": "ipython",
    "version": 3
   },
   "file_extension": ".py",
   "mimetype": "text/x-python",
   "name": "python",
   "nbconvert_exporter": "python",
   "pygments_lexer": "ipython3",
   "version": "3.10.0"
  }
 },
 "nbformat": 4,
 "nbformat_minor": 2
}
